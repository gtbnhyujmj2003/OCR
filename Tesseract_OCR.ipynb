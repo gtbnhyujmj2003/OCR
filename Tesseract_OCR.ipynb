{
  "nbformat": 4,
  "nbformat_minor": 0,
  "metadata": {
    "colab": {
      "provenance": [],
      "authorship_tag": "ABX9TyOspnmn4rh/W2RFuO7FQrso",
      "include_colab_link": true
    },
    "kernelspec": {
      "name": "python3",
      "display_name": "Python 3"
    },
    "language_info": {
      "name": "python"
    }
  },
  "cells": [
    {
      "cell_type": "markdown",
      "metadata": {
        "id": "view-in-github",
        "colab_type": "text"
      },
      "source": [
        "<a href=\"https://colab.research.google.com/github/gtbnhyujmj2003/OCR/blob/main/Tesseract_OCR.ipynb\" target=\"_parent\"><img src=\"https://colab.research.google.com/assets/colab-badge.svg\" alt=\"Open In Colab\"/></a>"
      ]
    },
    {
      "cell_type": "code",
      "execution_count": null,
      "metadata": {
        "colab": {
          "base_uri": "https://localhost:8080/"
        },
        "collapsed": true,
        "id": "BdWckTzUI6iP",
        "outputId": "95b5204f-a065-4a63-ee6f-7bc4a4b9c2c1"
      },
      "outputs": [
        {
          "output_type": "stream",
          "name": "stdout",
          "text": [
            "Reading package lists... Done\n",
            "Building dependency tree... Done\n",
            "Reading state information... Done\n",
            "The following NEW packages will be installed:\n",
            "  poppler-utils\n",
            "0 upgraded, 1 newly installed, 0 to remove and 35 not upgraded.\n",
            "Need to get 186 kB of archives.\n",
            "After this operation, 697 kB of additional disk space will be used.\n",
            "Get:1 http://archive.ubuntu.com/ubuntu jammy-updates/main amd64 poppler-utils amd64 22.02.0-2ubuntu0.8 [186 kB]\n",
            "Fetched 186 kB in 1s (264 kB/s)\n",
            "Selecting previously unselected package poppler-utils.\n",
            "(Reading database ... 126109 files and directories currently installed.)\n",
            "Preparing to unpack .../poppler-utils_22.02.0-2ubuntu0.8_amd64.deb ...\n",
            "Unpacking poppler-utils (22.02.0-2ubuntu0.8) ...\n",
            "Setting up poppler-utils (22.02.0-2ubuntu0.8) ...\n",
            "Processing triggers for man-db (2.10.2-1) ...\n",
            "Collecting pytesseract\n",
            "  Downloading pytesseract-0.3.13-py3-none-any.whl.metadata (11 kB)\n",
            "Collecting pdf2image\n",
            "  Downloading pdf2image-1.17.0-py3-none-any.whl.metadata (6.2 kB)\n",
            "Requirement already satisfied: packaging>=21.3 in /usr/local/lib/python3.11/dist-packages (from pytesseract) (24.2)\n",
            "Requirement already satisfied: Pillow>=8.0.0 in /usr/local/lib/python3.11/dist-packages (from pytesseract) (11.2.1)\n",
            "Downloading pytesseract-0.3.13-py3-none-any.whl (14 kB)\n",
            "Downloading pdf2image-1.17.0-py3-none-any.whl (11 kB)\n",
            "Installing collected packages: pytesseract, pdf2image\n",
            "Successfully installed pdf2image-1.17.0 pytesseract-0.3.13\n"
          ]
        }
      ],
      "source": [
        "# 安裝必要的套件\n",
        "!apt-get install -y poppler-utils\n",
        "!pip install pytesseract pdf2image"
      ]
    },
    {
      "cell_type": "code",
      "source": [
        "# 安裝 tesseract-ocr\n",
        "!apt-get install -y tesseract-ocr\n",
        "\n",
        "# 如需繁體中文支援，可加裝語言包\n",
        "!apt-get install -y tesseract-ocr-chi-tra"
      ],
      "metadata": {
        "colab": {
          "base_uri": "https://localhost:8080/"
        },
        "collapsed": true,
        "id": "qSvx0sf4JCAQ",
        "outputId": "0d5a13ae-b28e-4bf4-e7e1-5d59a69e006f"
      },
      "execution_count": null,
      "outputs": [
        {
          "output_type": "stream",
          "name": "stdout",
          "text": [
            "Reading package lists... Done\n",
            "Building dependency tree... Done\n",
            "Reading state information... Done\n",
            "tesseract-ocr is already the newest version (4.1.1-2.1build1).\n",
            "0 upgraded, 0 newly installed, 0 to remove and 35 not upgraded.\n",
            "Reading package lists... Done\n",
            "Building dependency tree... Done\n",
            "Reading state information... Done\n",
            "The following NEW packages will be installed:\n",
            "  tesseract-ocr-chi-tra\n",
            "0 upgraded, 1 newly installed, 0 to remove and 35 not upgraded.\n",
            "Need to get 1,586 kB of archives.\n",
            "After this operation, 2,382 kB of additional disk space will be used.\n",
            "Get:1 http://archive.ubuntu.com/ubuntu jammy/universe amd64 tesseract-ocr-chi-tra all 1:4.00~git30-7274cfa-1.1 [1,586 kB]\n",
            "Fetched 1,586 kB in 1s (1,771 kB/s)\n",
            "Selecting previously unselected package tesseract-ocr-chi-tra.\n",
            "(Reading database ... 126139 files and directories currently installed.)\n",
            "Preparing to unpack .../tesseract-ocr-chi-tra_1%3a4.00~git30-7274cfa-1.1_all.deb ...\n",
            "Unpacking tesseract-ocr-chi-tra (1:4.00~git30-7274cfa-1.1) ...\n",
            "Setting up tesseract-ocr-chi-tra (1:4.00~git30-7274cfa-1.1) ...\n"
          ]
        }
      ]
    },
    {
      "cell_type": "code",
      "source": [
        "# 匯入套件\n",
        "import pytesseract\n",
        "from pdf2image import convert_from_path\n",
        "from google.colab import files\n",
        "import os"
      ],
      "metadata": {
        "id": "-GtKYtffJCvP"
      },
      "execution_count": null,
      "outputs": []
    },
    {
      "cell_type": "code",
      "source": [
        "# 上傳 PDF\n",
        "uploaded = files.upload()\n",
        "pdf_path = next(iter(uploaded))  # 取得上傳的檔案名"
      ],
      "metadata": {
        "colab": {
          "base_uri": "https://localhost:8080/",
          "height": 77
        },
        "id": "M786iHO4JE6f",
        "outputId": "f03c1649-fb06-4ac1-9195-969ec458b953"
      },
      "execution_count": null,
      "outputs": [
        {
          "output_type": "display_data",
          "data": {
            "text/plain": [
              "<IPython.core.display.HTML object>"
            ],
            "text/html": [
              "\n",
              "     <input type=\"file\" id=\"files-796e1cae-776a-49a7-a910-86b26961594b\" name=\"files[]\" multiple disabled\n",
              "        style=\"border:none\" />\n",
              "     <output id=\"result-796e1cae-776a-49a7-a910-86b26961594b\">\n",
              "      Upload widget is only available when the cell has been executed in the\n",
              "      current browser session. Please rerun this cell to enable.\n",
              "      </output>\n",
              "      <script>// Copyright 2017 Google LLC\n",
              "//\n",
              "// Licensed under the Apache License, Version 2.0 (the \"License\");\n",
              "// you may not use this file except in compliance with the License.\n",
              "// You may obtain a copy of the License at\n",
              "//\n",
              "//      http://www.apache.org/licenses/LICENSE-2.0\n",
              "//\n",
              "// Unless required by applicable law or agreed to in writing, software\n",
              "// distributed under the License is distributed on an \"AS IS\" BASIS,\n",
              "// WITHOUT WARRANTIES OR CONDITIONS OF ANY KIND, either express or implied.\n",
              "// See the License for the specific language governing permissions and\n",
              "// limitations under the License.\n",
              "\n",
              "/**\n",
              " * @fileoverview Helpers for google.colab Python module.\n",
              " */\n",
              "(function(scope) {\n",
              "function span(text, styleAttributes = {}) {\n",
              "  const element = document.createElement('span');\n",
              "  element.textContent = text;\n",
              "  for (const key of Object.keys(styleAttributes)) {\n",
              "    element.style[key] = styleAttributes[key];\n",
              "  }\n",
              "  return element;\n",
              "}\n",
              "\n",
              "// Max number of bytes which will be uploaded at a time.\n",
              "const MAX_PAYLOAD_SIZE = 100 * 1024;\n",
              "\n",
              "function _uploadFiles(inputId, outputId) {\n",
              "  const steps = uploadFilesStep(inputId, outputId);\n",
              "  const outputElement = document.getElementById(outputId);\n",
              "  // Cache steps on the outputElement to make it available for the next call\n",
              "  // to uploadFilesContinue from Python.\n",
              "  outputElement.steps = steps;\n",
              "\n",
              "  return _uploadFilesContinue(outputId);\n",
              "}\n",
              "\n",
              "// This is roughly an async generator (not supported in the browser yet),\n",
              "// where there are multiple asynchronous steps and the Python side is going\n",
              "// to poll for completion of each step.\n",
              "// This uses a Promise to block the python side on completion of each step,\n",
              "// then passes the result of the previous step as the input to the next step.\n",
              "function _uploadFilesContinue(outputId) {\n",
              "  const outputElement = document.getElementById(outputId);\n",
              "  const steps = outputElement.steps;\n",
              "\n",
              "  const next = steps.next(outputElement.lastPromiseValue);\n",
              "  return Promise.resolve(next.value.promise).then((value) => {\n",
              "    // Cache the last promise value to make it available to the next\n",
              "    // step of the generator.\n",
              "    outputElement.lastPromiseValue = value;\n",
              "    return next.value.response;\n",
              "  });\n",
              "}\n",
              "\n",
              "/**\n",
              " * Generator function which is called between each async step of the upload\n",
              " * process.\n",
              " * @param {string} inputId Element ID of the input file picker element.\n",
              " * @param {string} outputId Element ID of the output display.\n",
              " * @return {!Iterable<!Object>} Iterable of next steps.\n",
              " */\n",
              "function* uploadFilesStep(inputId, outputId) {\n",
              "  const inputElement = document.getElementById(inputId);\n",
              "  inputElement.disabled = false;\n",
              "\n",
              "  const outputElement = document.getElementById(outputId);\n",
              "  outputElement.innerHTML = '';\n",
              "\n",
              "  const pickedPromise = new Promise((resolve) => {\n",
              "    inputElement.addEventListener('change', (e) => {\n",
              "      resolve(e.target.files);\n",
              "    });\n",
              "  });\n",
              "\n",
              "  const cancel = document.createElement('button');\n",
              "  inputElement.parentElement.appendChild(cancel);\n",
              "  cancel.textContent = 'Cancel upload';\n",
              "  const cancelPromise = new Promise((resolve) => {\n",
              "    cancel.onclick = () => {\n",
              "      resolve(null);\n",
              "    };\n",
              "  });\n",
              "\n",
              "  // Wait for the user to pick the files.\n",
              "  const files = yield {\n",
              "    promise: Promise.race([pickedPromise, cancelPromise]),\n",
              "    response: {\n",
              "      action: 'starting',\n",
              "    }\n",
              "  };\n",
              "\n",
              "  cancel.remove();\n",
              "\n",
              "  // Disable the input element since further picks are not allowed.\n",
              "  inputElement.disabled = true;\n",
              "\n",
              "  if (!files) {\n",
              "    return {\n",
              "      response: {\n",
              "        action: 'complete',\n",
              "      }\n",
              "    };\n",
              "  }\n",
              "\n",
              "  for (const file of files) {\n",
              "    const li = document.createElement('li');\n",
              "    li.append(span(file.name, {fontWeight: 'bold'}));\n",
              "    li.append(span(\n",
              "        `(${file.type || 'n/a'}) - ${file.size} bytes, ` +\n",
              "        `last modified: ${\n",
              "            file.lastModifiedDate ? file.lastModifiedDate.toLocaleDateString() :\n",
              "                                    'n/a'} - `));\n",
              "    const percent = span('0% done');\n",
              "    li.appendChild(percent);\n",
              "\n",
              "    outputElement.appendChild(li);\n",
              "\n",
              "    const fileDataPromise = new Promise((resolve) => {\n",
              "      const reader = new FileReader();\n",
              "      reader.onload = (e) => {\n",
              "        resolve(e.target.result);\n",
              "      };\n",
              "      reader.readAsArrayBuffer(file);\n",
              "    });\n",
              "    // Wait for the data to be ready.\n",
              "    let fileData = yield {\n",
              "      promise: fileDataPromise,\n",
              "      response: {\n",
              "        action: 'continue',\n",
              "      }\n",
              "    };\n",
              "\n",
              "    // Use a chunked sending to avoid message size limits. See b/62115660.\n",
              "    let position = 0;\n",
              "    do {\n",
              "      const length = Math.min(fileData.byteLength - position, MAX_PAYLOAD_SIZE);\n",
              "      const chunk = new Uint8Array(fileData, position, length);\n",
              "      position += length;\n",
              "\n",
              "      const base64 = btoa(String.fromCharCode.apply(null, chunk));\n",
              "      yield {\n",
              "        response: {\n",
              "          action: 'append',\n",
              "          file: file.name,\n",
              "          data: base64,\n",
              "        },\n",
              "      };\n",
              "\n",
              "      let percentDone = fileData.byteLength === 0 ?\n",
              "          100 :\n",
              "          Math.round((position / fileData.byteLength) * 100);\n",
              "      percent.textContent = `${percentDone}% done`;\n",
              "\n",
              "    } while (position < fileData.byteLength);\n",
              "  }\n",
              "\n",
              "  // All done.\n",
              "  yield {\n",
              "    response: {\n",
              "      action: 'complete',\n",
              "    }\n",
              "  };\n",
              "}\n",
              "\n",
              "scope.google = scope.google || {};\n",
              "scope.google.colab = scope.google.colab || {};\n",
              "scope.google.colab._files = {\n",
              "  _uploadFiles,\n",
              "  _uploadFilesContinue,\n",
              "};\n",
              "})(self);\n",
              "</script> "
            ]
          },
          "metadata": {}
        },
        {
          "output_type": "stream",
          "name": "stdout",
          "text": [
            "Saving CH01 - 刑法的基本概念.pdf to CH01 - 刑法的基本概念.pdf\n"
          ]
        }
      ]
    },
    {
      "cell_type": "code",
      "source": [
        "# 將 PDF 頁面轉成圖片\n",
        "images = convert_from_path(pdf_path)"
      ],
      "metadata": {
        "id": "keTZs0u4JF8u"
      },
      "execution_count": null,
      "outputs": []
    },
    {
      "cell_type": "code",
      "source": [
        "# OCR 辨識每一頁\n",
        "all_text = \"\"\n",
        "\n",
        "for i, img in enumerate(images):\n",
        "    text = pytesseract.image_to_string(img, lang=\"chi_tra+eng\")  # 中英混合\n",
        "    all_text += f\"\\n\\n--- 第 {i+1} 頁 ---\\n\\n{text}\""
      ],
      "metadata": {
        "id": "5FJtMBkLJHPv"
      },
      "execution_count": null,
      "outputs": []
    },
    {
      "cell_type": "code",
      "source": [
        "# 將結果存成文字檔\n",
        "output_path = \"ocr_output.txt\"\n",
        "\n",
        "with open(output_path, \"w\", encoding=\"utf-8\") as f:\n",
        "    f.write(all_text)"
      ],
      "metadata": {
        "id": "AezDaa9oJIWG"
      },
      "execution_count": null,
      "outputs": []
    },
    {
      "cell_type": "code",
      "source": [
        "# 顯示部分內容\n",
        "print(all_text[:1000])  # 頭 1000 字"
      ],
      "metadata": {
        "colab": {
          "base_uri": "https://localhost:8080/"
        },
        "id": "nxU30zV4JJ7X",
        "outputId": "44f50a01-de8d-472d-e60f-dd267e8b0e98"
      },
      "execution_count": null,
      "outputs": [
        {
          "output_type": "stream",
          "name": "stdout",
          "text": [
            "\n",
            "\n",
            "--- 第 1 頁 ---\n",
            "\n",
            "                                                                                                                                                        \n",
            "\n",
            "—_  第一章 一s\n",
            "|     刑法的基本概念\n",
            "\n",
            "壹、我國刑法之歷史演變\n",
            "貳、刑法與民法、公法的區別\n",
            "參、實體刑法與程序刑法的區別\n",
            "\n",
            "二、程序刑法\n",
            "\n",
            "肆、刑法之名稱與體了系架構\n",
            "一、刑法之名稱\n",
            "二、刑法的體系架構\n",
            "\n",
            " \n",
            "\f\n",
            "\n",
            "--- 第 2 頁 ---\n",
            "\n",
            "\f\n",
            "\n",
            "--- 第 3 頁 ---\n",
            "\n",
            "第一章_刑法的基本概念\n",
            "\n",
            "可、我國刑法之歷史痊變\n",
            "\n",
            "我國現行刑法的\n",
            "\n",
            "立法思想與體系架構 ,主要繼受歐陸刑法法制。\n",
            "\n",
            "繼受的時間,源起於中國清朝末年間。清朝光緒 28 年 (1902 年),清\n",
            "娃下詔變法以圖強 ,光緒 30 年成立 “修訂法律館」作為修法專責機\n",
            "構,並由修律大巴沈家本主導修法,沈家本鑑於當時日本變法革新 ,\n",
            "\n",
            "繼受歐陸法制之經驗 ,\n",
            "\n",
            " \n",
            "\n",
            " \n",
            "\n",
            "力倡清政府應仿效日本經驗 ,引進歐陸新法。\n",
            "\n",
            "沈家本聘日本法學者岡田朝太郎 ,參了酌當時日本繼受之歐陸新法,於\n",
            "\n",
            "光緒 33 年 (1907 年) 為清朝政府起革“刑律草案」J。此一'刑律草\n",
            "案」已經參酌當時歐陸刑法體系,區分為「總則」與「分則」的架\n",
            "構。於宣統 2 年(1911 年) 修正為 ao  草案修正尚\n",
            "未完成,即因爆發平亥唱命清朝滅亡而終止修法。\n",
            "\n",
            "1912 年,中華民國政府成立,法律制度本應一併更張。惟百廢竺\n",
            "\n",
            " \n",
            "\n",
            " \n",
            "\n",
            " \n",
            "\n",
            " \n",
            "\n",
            " \n",
            "\n",
            "at\n",
            "\n",
            " \n",
            "\n",
            " \n",
            "\n",
            " \n",
            "\n",
            " \n",
            "\n",
            ",刑法法典一時之間亦無法全面更新,國民政府因而將清末變法時\n",
            "\n",
            "Ei\n",
            "\n",
            " \n",
            "\n",
            " \n",
            "\n",
            " \n",
            "\n",
            "制定的 「欽定大清刑律,,了予以修正,刪除與民國政府體制不符之處\n",
            "\n",
            " \n",
            "\n",
            "(例如刪除侵犯皇室罪),制定且公布了「暫行新刑律J,以適用於民\n",
            "國。本部「暫行新刑律」,自民國元年一直適用至民國 17 年。\n",
            "\n",
            " \n",
            "\n",
            " \n",
            "\n",
            " \n",
            "\n",
            " \n",
            "\n",
            " \n",
            "\n",
            "民國 16 年,國民政府奠都南京, 同生 12 月 ,命當時司法部長王\n",
            "寵惠修訂刑律。修訂後之刑律於民國 17 年3月 10 日公布,且定 7月\n",
            "1 日起生效施行,名為「!「中華民國刑\n"
          ]
        }
      ]
    },
    {
      "cell_type": "code",
      "source": [
        "# 提供下載\n",
        "files.download(output_path)"
      ],
      "metadata": {
        "id": "SffL6PmdJK7n"
      },
      "execution_count": null,
      "outputs": []
    }
  ]
}